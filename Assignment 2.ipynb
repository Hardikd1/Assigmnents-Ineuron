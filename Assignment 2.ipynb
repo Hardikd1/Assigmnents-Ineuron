{
 "cells": [
  {
   "cell_type": "code",
   "execution_count": null,
   "id": "76dc3431-b718-4e45-9596-fa7bf2885588",
   "metadata": {},
   "outputs": [],
   "source": [
    "#Question 1.What are the two values of the Boolean data type? How do you write them?\n",
    "Answer\n",
    "The Boolean data type in Python represents logical values and has only two possible values: True and False. In Python, the keywords True and False (without quotes) are used to represent these two Boolean values.\n",
    "\n",
    "It's important to note that capitalization matters in Python: True and False must always be capitalized exactly as shown here. Any other capitalization will result in a NameError"
   ]
  },
  {
   "cell_type": "code",
   "execution_count": null,
   "id": "14736136-16e2-4763-a652-fe2b849c817c",
   "metadata": {},
   "outputs": [],
   "source": [
    "# Questions 2. What are the three different types of Boolean operators?\n",
    "Answer\n",
    "\n",
    "and,or,not are the three different boolean operators"
   ]
  },
  {
   "cell_type": "code",
   "execution_count": null,
   "id": "99bb4d2c-91f4-41ac-8f88-ecf870c20b32",
   "metadata": {},
   "outputs": [],
   "source": [
    "# Question 3. Make a list of each Boolean operator's truth tables (i.e. every possible combination of Boolean values for the operator and what it evaluate ).\n",
    "\n",
    "and operator:\n",
    "Operand 1\tOperand 2\tResult\n",
    "False\t     False\t    False\n",
    "False\t     True\t    False\n",
    "True\t     False\t    False\n",
    "True\t     True\t    True\n",
    "or operator:\n",
    "Operand 1\tOperand 2\tResult\n",
    "False\t     False\t    False\n",
    "False\t     True\t    True\n",
    "True\t     False\t    True\n",
    "True\t     True\t    True\n",
    "not operator:\n",
    "Operand\tResult\n",
    "False\tTrue\n",
    "True\tFalse\n",
    "These truth tables show all possible combinations of Boolean values for each operator and the resulting Boolean value of the operation. They are useful for understanding how the Boolean operators work and for creating more complex Boolean expressions."
   ]
  },
  {
   "cell_type": "code",
   "execution_count": 1,
   "id": "63361bb6-cfba-4eb8-a137-1e745f82f6c5",
   "metadata": {},
   "outputs": [
    {
     "data": {
      "text/plain": [
       "True"
      ]
     },
     "execution_count": 1,
     "metadata": {},
     "output_type": "execute_result"
    }
   ],
   "source": [
    "# Question 4. What are the values of the following expressions?\n",
    "(5 > 4) and (3 == 5)\n",
    "not (5 > 4)\n",
    "(5 > 4) or (3 == 5)\n",
    "not ((5 > 4) or (3 == 5))\n",
    "(True and True) and (True == False)\n",
    "(not False) or (not True)"
   ]
  },
  {
   "cell_type": "code",
   "execution_count": 2,
   "id": "e34f051e-b434-4a07-a4dd-e9eac33b6c60",
   "metadata": {},
   "outputs": [
    {
     "data": {
      "text/plain": [
       "False"
      ]
     },
     "execution_count": 2,
     "metadata": {},
     "output_type": "execute_result"
    }
   ],
   "source": [
    "(5 > 4) and (3 == 5)"
   ]
  },
  {
   "cell_type": "code",
   "execution_count": 3,
   "id": "d055ed35-ffd4-4163-a826-eb77745719fd",
   "metadata": {},
   "outputs": [
    {
     "data": {
      "text/plain": [
       "False"
      ]
     },
     "execution_count": 3,
     "metadata": {},
     "output_type": "execute_result"
    }
   ],
   "source": [
    "not (5 > 4)"
   ]
  },
  {
   "cell_type": "code",
   "execution_count": 4,
   "id": "f675948a-9fa8-4d59-bb64-10a2f738c434",
   "metadata": {},
   "outputs": [
    {
     "data": {
      "text/plain": [
       "True"
      ]
     },
     "execution_count": 4,
     "metadata": {},
     "output_type": "execute_result"
    }
   ],
   "source": [
    "(5 > 4) or (3 == 5)"
   ]
  },
  {
   "cell_type": "code",
   "execution_count": 5,
   "id": "8affc575-ba3c-4b54-be22-b1256a2f0c20",
   "metadata": {},
   "outputs": [
    {
     "data": {
      "text/plain": [
       "False"
      ]
     },
     "execution_count": 5,
     "metadata": {},
     "output_type": "execute_result"
    }
   ],
   "source": [
    "not ((5 > 4) or (3 == 5))"
   ]
  },
  {
   "cell_type": "code",
   "execution_count": 6,
   "id": "e2a897cf-6e75-478a-8cfa-a3fec898dcce",
   "metadata": {},
   "outputs": [
    {
     "data": {
      "text/plain": [
       "False"
      ]
     },
     "execution_count": 6,
     "metadata": {},
     "output_type": "execute_result"
    }
   ],
   "source": [
    "(True and True) and (True == False)"
   ]
  },
  {
   "cell_type": "code",
   "execution_count": 7,
   "id": "cf999ffe-9792-4cd8-8800-3b06f0e4888e",
   "metadata": {},
   "outputs": [
    {
     "data": {
      "text/plain": [
       "True"
      ]
     },
     "execution_count": 7,
     "metadata": {},
     "output_type": "execute_result"
    }
   ],
   "source": [
    "(not False) or (not True)"
   ]
  },
  {
   "cell_type": "code",
   "execution_count": null,
   "id": "074fce97-3f32-4f8c-bb1a-aaec48db5222",
   "metadata": {},
   "outputs": [],
   "source": [
    "# Question 5. What are the six comparison operators?\n",
    "ANSWER\n",
    "> (greater than): Returns True if the left operand is greater than the right operand, and False otherwise.\n",
    "\n",
    "< (less than): Returns True if the left operand is less than the right operand, and False otherwise.\n",
    "\n",
    ">= (greater than or equal to): Returns True if the left operand is greater than or equal to the right operand, and False otherwise.\n",
    "\n",
    "<= (less than or equal to): Returns True if the left operand is less than or equal to the right operand, and False otherwise.\n",
    "\n",
    "== (equal to): Returns True if the left operand is equal to the right operand, and False otherwise.\n",
    "\n",
    "!= (not equal to): Returns True if the left operand is not equal to the right operand, and False otherwise."
   ]
  },
  {
   "cell_type": "code",
   "execution_count": 8,
   "id": "7b349624-1d95-49db-a706-4a1772b85a66",
   "metadata": {},
   "outputs": [
    {
     "ename": "SyntaxError",
     "evalue": "invalid syntax (740923721.py, line 3)",
     "output_type": "error",
     "traceback": [
      "\u001b[0;36m  Cell \u001b[0;32mIn [8], line 3\u001b[0;36m\u001b[0m\n\u001b[0;31m    The equal to operator (==) is used to compare two values and return a Boolean value indicating whether they are equal or not. On the other hand, the assignment operator (=) is used to assign a value to a variable.\u001b[0m\n\u001b[0m        ^\u001b[0m\n\u001b[0;31mSyntaxError\u001b[0m\u001b[0;31m:\u001b[0m invalid syntax\n"
     ]
    }
   ],
   "source": [
    "# Question 6. How do you tell the difference between the equal to and assignment operators?Describe a condition and when you would use one.\n",
    "ANSWER\n",
    "The equal to operator (==) is used to compare two values and return a Boolean value indicating whether they are equal or not. On the other hand, the assignment operator (=) is used to assign a value to a variable.\n",
    "\n",
    "x = 5     # Assigns the value 5 to the variable x\n",
    "y = 10    # Assigns the value 10 to the variable y\n",
    "z = x == y # Compares the values of x and y and assigns the result to z"
   ]
  },
  {
   "cell_type": "code",
   "execution_count": 10,
   "id": "00d489d6-cb18-47d1-964c-e57b93f54440",
   "metadata": {},
   "outputs": [
    {
     "name": "stdout",
     "output_type": "stream",
     "text": [
      "ham\n",
      "spam\n",
      "spam\n"
     ]
    }
   ],
   "source": [
    "# Question 7. Identify the three blocks in this code:\n",
    "spam = 0\n",
    "if spam == 10:\n",
    "    print('eggs')\n",
    "if spam > 5:\n",
    "    print('bacon')\n",
    "else:\n",
    "    print('ham')\n",
    "    print('spam')\n",
    "    print('spam')\n",
    "# the print indentation was not done in the Question"
   ]
  },
  {
   "cell_type": "code",
   "execution_count": 24,
   "id": "6bb14cd2-a7ce-4a67-9d85-26225790e118",
   "metadata": {},
   "outputs": [
    {
     "name": "stdin",
     "output_type": "stream",
     "text": [
      "spam =  5\n"
     ]
    },
    {
     "name": "stdout",
     "output_type": "stream",
     "text": [
      "Greetings\n"
     ]
    }
   ],
   "source": [
    "# Question 8. Write code that prints Hello if 1 is stored in spam, prints Howdy if 2 is stored in spam, and prints Greetings! if anything else is stored in spam.\n",
    "\n",
    "spam = int(input(\"spam = \"))\n",
    "\n",
    "if spam == 1:\n",
    "    print(\"Hello\")\n",
    "elif spam == 2:\n",
    "    print (\"Howdy\")\n",
    "else:\n",
    "    print(\"Greetings\")"
   ]
  },
  {
   "cell_type": "code",
   "execution_count": null,
   "id": "1e31308f-2a5d-4b7d-9792-efa369ddfdb1",
   "metadata": {},
   "outputs": [],
   "source": [
    "# Question 9.If your programme is stuck in an endless loop, what keys you’ll press?\n",
    "ANSWER\n",
    "\n",
    "If your program is stuck in an endless loop, you can press Ctrl + C (Control key and C key) to break out of the loop. This sends an interrupt signal to the program, causing it to terminate. On Windows, you may need to use Ctrl + Break instead of Ctrl + C"
   ]
  },
  {
   "cell_type": "code",
   "execution_count": null,
   "id": "15c8f4af-68e9-4dd0-869f-83295f48e690",
   "metadata": {},
   "outputs": [],
   "source": [
    "# Question 10. How can you tell the difference between break and continue?\n",
    "\n",
    "# Example using break\n",
    "for i in range(1, 6):\n",
    "    if i == 3:\n",
    "        break\n",
    "    print(i)\n",
    "\n",
    "# Output: 1 2.code will stop executing as it reaches the condtion \n",
    "\n",
    "# Example using continue\n",
    "for i in range(1, 6):\n",
    "    if i == 3:\n",
    "        continue\n",
    "    print(i)\n",
    "\n",
    "# Output: 1 2 4 5.the code will skip the value and metioned and continue till it completes the range "
   ]
  },
  {
   "cell_type": "code",
   "execution_count": null,
   "id": "376fe364-9e09-4ca9-943a-7b5a56c957b7",
   "metadata": {},
   "outputs": [],
   "source": [
    " Question 11. In a for loop, what is the difference between range(10), range(0, 10), and range(0, 10, 1)?\n",
    "\n",
    "ANSWER\n",
    "range(10) generates a sequence of integers starting from 0 up to, but not including, 10. This is a shorthand notation for range(0, 10).\n",
    "\n",
    "range(0, 10) generates a sequence of integers starting from 0 up to, but not including, 10. The first argument specifies the starting value (inclusive), and the second argument specifies the ending value (exclusive).\n",
    "\n",
    "range(0, 10, 1) generates a sequence of integers starting from 0 up to, but not including, 10, with a step size of 1. The third argument specifies the step size, which is the amount by which the sequence increases from one value to the next. In this case, the step size is 1, so the sequence consists of the integers 0, 1, 2, 3, 4, 5, 6, 7, 8, and 9."
   ]
  },
  {
   "cell_type": "code",
   "execution_count": 27,
   "id": "45071f5f-9ff8-4890-adee-420742aea17a",
   "metadata": {},
   "outputs": [
    {
     "name": "stdout",
     "output_type": "stream",
     "text": [
      "0\n",
      "1\n",
      "2\n",
      "3\n",
      "4\n",
      "5\n",
      "6\n",
      "7\n",
      "8\n",
      "9\n",
      "10\n"
     ]
    }
   ],
   "source": [
    "#12. Write a short program that prints the numbers 1 to 10 using a for loop. Then write an equivalent program that prints the numbers 1 to 10 using a while loop.\n",
    "\n",
    "#Using for loop\n",
    "\n",
    "for i in range(0,11):\n",
    "    print (i)"
   ]
  },
  {
   "cell_type": "code",
   "execution_count": null,
   "id": "872eb9ec-edf3-42f2-bff6-3700600cbdd4",
   "metadata": {},
   "outputs": [
    {
     "name": "stdout",
     "output_type": "stream",
     "text": [
      "1\n",
      "2\n",
      "3\n",
      "4\n",
      "5\n",
      "6\n",
      "7\n",
      "8\n",
      "9\n",
      "10\n"
     ]
    }
   ],
   "source": [
    "#using while loop\n",
    "\n",
    "num = 1\n",
    "while num <= 10:\n",
    "    print(num)\n",
    "    num += 1\n"
   ]
  },
  {
   "cell_type": "code",
   "execution_count": 2,
   "id": "6a6b7b8c-e664-4a6c-9953-51b71e75e346",
   "metadata": {},
   "outputs": [
    {
     "ename": "ModuleNotFoundError",
     "evalue": "No module named 'spam'",
     "output_type": "error",
     "traceback": [
      "\u001b[0;31m---------------------------------------------------------------------------\u001b[0m",
      "\u001b[0;31mModuleNotFoundError\u001b[0m                       Traceback (most recent call last)",
      "Cell \u001b[0;32mIn [2], line 3\u001b[0m\n\u001b[1;32m      1\u001b[0m \u001b[38;5;66;03m#Question 13. If you had a function named bacon() inside a module named spam, how would you call it after importing spam?\u001b[39;00m\n\u001b[0;32m----> 3\u001b[0m \u001b[38;5;28;01mimport\u001b[39;00m \u001b[38;5;21;01mspam\u001b[39;00m\n\u001b[1;32m      5\u001b[0m spam\u001b[38;5;241m.\u001b[39mbacon()\n",
      "\u001b[0;31mModuleNotFoundError\u001b[0m: No module named 'spam'"
     ]
    }
   ],
   "source": [
    "#Question 13. If you had a function named bacon() inside a module named spam, how would you call it after importing spam?\n",
    "\n",
    "import spam\n",
    "\n",
    "spam.bacon()"
   ]
  }
 ],
 "metadata": {
  "kernelspec": {
   "display_name": "Python 3 (ipykernel)",
   "language": "python",
   "name": "python3"
  },
  "language_info": {
   "codemirror_mode": {
    "name": "ipython",
    "version": 3
   },
   "file_extension": ".py",
   "mimetype": "text/x-python",
   "name": "python",
   "nbconvert_exporter": "python",
   "pygments_lexer": "ipython3",
   "version": "3.10.6"
  }
 },
 "nbformat": 4,
 "nbformat_minor": 5
}
