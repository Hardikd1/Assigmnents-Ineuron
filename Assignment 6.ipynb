{
 "cells": [
  {
   "cell_type": "markdown",
   "id": "e093d273-839d-474b-aa8b-ae4ddaba8786",
   "metadata": {},
   "source": [
    "1. What are escape characters, and how do you use them?"
   ]
  },
  {
   "cell_type": "code",
   "execution_count": 1,
   "id": "12d9aa24-9c25-4ee0-bc24-c9e83b6ed89f",
   "metadata": {},
   "outputs": [
    {
     "name": "stdout",
     "output_type": "stream",
     "text": [
      "Hello\n",
      "world!\n"
     ]
    }
   ],
   "source": [
    "\\n: represents a new line character\n",
    "\\t: represents a tab character\n",
    "\\\\: represents a single backslash character\n",
    "\\\": represents a double quote character\n",
    "\\': represents a single quote character\n",
    "\n",
    "print(\"Hello\\nworld!\")"
   ]
  },
  {
   "cell_type": "markdown",
   "id": "114d36f5-07f2-4784-99d7-ae9a03a941c1",
   "metadata": {},
   "source": [
    "2. What do the escape characters n and t stand for?\n"
   ]
  },
  {
   "cell_type": "code",
   "execution_count": null,
   "id": "51e04def-84cc-42f7-8095-afd6129a41a0",
   "metadata": {},
   "outputs": [],
   "source": [
    "The \\n character is used to create a new line in a string. When it is included in a string, the text following it is printed on a new line.\n",
    "\n",
    "The \\t character is used to create a horizontal tab in a string. When it is included in a string, the text following it is indented to the next tab stop. This can be useful for aligning text in columns or creating well-formatted tables."
   ]
  },
  {
   "cell_type": "markdown",
   "id": "7359c1d3-26f1-4c20-b450-f5370fe61447",
   "metadata": {},
   "source": [
    "3. What is the way to include backslash characters in a string?"
   ]
  },
  {
   "cell_type": "code",
   "execution_count": 2,
   "id": "0926fa2a-a172-4f2e-bc92-e601dfb40b76",
   "metadata": {},
   "outputs": [
    {
     "name": "stdout",
     "output_type": "stream",
     "text": [
      "This is a backslash: \\\n"
     ]
    }
   ],
   "source": [
    "print(\"This is a backslash: \\\\\")"
   ]
  },
  {
   "cell_type": "markdown",
   "id": "3135575e-c1be-4023-b160-bc4c554ee435",
   "metadata": {},
   "source": [
    "4. The string \"Howl's Moving Castle\" is a correct value. Why isn't the single quote character in the word Howl's not escaped a problem?\n"
   ]
  },
  {
   "cell_type": "code",
   "execution_count": null,
   "id": "b5d5df74-6121-43f3-be79-3aae35628f29",
   "metadata": {},
   "outputs": [],
   "source": [
    "The single quote character in the word \"Howl's\" is not causing a problem because the string is enclosed in double quotes. In Python, you can use single quotes or double quotes to enclose a string, and as long as the opening and closing quotes match, the string will be recognized as a string."
   ]
  },
  {
   "cell_type": "markdown",
   "id": "82801bcf-d7b0-4a99-8b7b-619a2bda113c",
   "metadata": {},
   "source": [
    "5. How do you write a string of newlines if you don't want to use the n character?\n"
   ]
  },
  {
   "cell_type": "code",
   "execution_count": 3,
   "id": "befba271-3d11-4659-a5e4-2eedb3b20917",
   "metadata": {},
   "outputs": [
    {
     "name": "stdout",
     "output_type": "stream",
     "text": [
      "This is a\n",
      "multi-line\n",
      "string\n"
     ]
    }
   ],
   "source": [
    "my_string = \"\"\"This is a\n",
    "multi-line\n",
    "string\"\"\"\n",
    "print(my_string)\n"
   ]
  },
  {
   "cell_type": "markdown",
   "id": "e2a129d6-7417-4cc1-a6c6-7d605acb4e03",
   "metadata": {},
   "source": [
    "6. What are the values of the given expressions?"
   ]
  },
  {
   "cell_type": "code",
   "execution_count": 5,
   "id": "c2712477-e81e-4e14-994c-0de5075f2d8c",
   "metadata": {},
   "outputs": [
    {
     "data": {
      "text/plain": [
       "'lo, world!'"
      ]
     },
     "execution_count": 5,
     "metadata": {},
     "output_type": "execute_result"
    }
   ],
   "source": [
    "\n",
    "'Hello, world!'[1]\n",
    "'Hello, world!'[0:5]\n",
    "'Hello, world!'[:5]\n",
    "'Hello, world!'[3:]"
   ]
  },
  {
   "cell_type": "markdown",
   "id": "fde1391b-5b9d-459d-aca9-4bdf631449b5",
   "metadata": {},
   "source": [
    "7. What are the values of the following expressions?\n",
    "'Hello'.upper()\n",
    "'Hello'.upper().isupper()\n",
    "'Hello'.upper().lower()\n"
   ]
  },
  {
   "cell_type": "code",
   "execution_count": 7,
   "id": "78781329-050d-4378-91e3-bed9e5b46ba1",
   "metadata": {},
   "outputs": [
    {
     "data": {
      "text/plain": [
       "'HELLO'"
      ]
     },
     "execution_count": 7,
     "metadata": {},
     "output_type": "execute_result"
    }
   ],
   "source": [
    "'Hello'.upper()\n"
   ]
  },
  {
   "cell_type": "code",
   "execution_count": 8,
   "id": "ef23ee9f-3bbd-45e6-b0bb-63877cc5b72c",
   "metadata": {},
   "outputs": [
    {
     "data": {
      "text/plain": [
       "True"
      ]
     },
     "execution_count": 8,
     "metadata": {},
     "output_type": "execute_result"
    }
   ],
   "source": [
    "'Hello'.upper().isupper()"
   ]
  },
  {
   "cell_type": "code",
   "execution_count": 9,
   "id": "b2bfdced-a610-4788-a931-0cad4c58e900",
   "metadata": {},
   "outputs": [
    {
     "data": {
      "text/plain": [
       "'hello'"
      ]
     },
     "execution_count": 9,
     "metadata": {},
     "output_type": "execute_result"
    }
   ],
   "source": [
    "'Hello'.upper().lower()"
   ]
  },
  {
   "cell_type": "markdown",
   "id": "5deeb45d-f8a7-4fc0-aea6-7b7d926b7ec1",
   "metadata": {},
   "source": [
    "8. What are the values of the following expressions?\n",
    "'Remember, remember, the fifth of July.'.split()\n",
    "'-'.join('There can only one.'.split())\n"
   ]
  },
  {
   "cell_type": "code",
   "execution_count": 11,
   "id": "695b2fa0-95fc-4155-b73d-e6d9a0af1253",
   "metadata": {},
   "outputs": [
    {
     "data": {
      "text/plain": [
       "['Remember,', 'remember,', 'the', 'fifth', 'of', 'July.']"
      ]
     },
     "execution_count": 11,
     "metadata": {},
     "output_type": "execute_result"
    }
   ],
   "source": [
    "'Remember, remember, the fifth of July.'.split()"
   ]
  },
  {
   "cell_type": "code",
   "execution_count": 12,
   "id": "b064241e-6923-458e-94d0-21df7fedcb43",
   "metadata": {},
   "outputs": [
    {
     "data": {
      "text/plain": [
       "'There-can-only-one.'"
      ]
     },
     "execution_count": 12,
     "metadata": {},
     "output_type": "execute_result"
    }
   ],
   "source": [
    "'-'.join('There can only one.'.split())"
   ]
  },
  {
   "cell_type": "markdown",
   "id": "b17edac2-1ce8-401e-8b8f-3444178c7f9a",
   "metadata": {},
   "source": [
    "9. What are the methods for right-justifying, left-justifying, and centering a string?\n"
   ]
  },
  {
   "cell_type": "code",
   "execution_count": 13,
   "id": "1c592714-ccec-4ec6-8624-abdd88cc43b3",
   "metadata": {},
   "outputs": [
    {
     "name": "stdout",
     "output_type": "stream",
     "text": [
      "Hello     \n"
     ]
    }
   ],
   "source": [
    "my_string = 'Hello'\n",
    "print(my_string.ljust(10))"
   ]
  },
  {
   "cell_type": "code",
   "execution_count": 14,
   "id": "bc758d6e-adbd-4f76-8a3e-43206a0b2ccb",
   "metadata": {},
   "outputs": [
    {
     "name": "stdout",
     "output_type": "stream",
     "text": [
      "     Hello\n"
     ]
    }
   ],
   "source": [
    "my_string = 'Hello'\n",
    "print(my_string.rjust(10))"
   ]
  },
  {
   "cell_type": "markdown",
   "id": "d053bf52-47f9-4ad1-869f-4d26cf58a140",
   "metadata": {},
   "source": [
    "10. What is the best way to remove whitespace characters from the start or end?\n"
   ]
  },
  {
   "cell_type": "code",
   "execution_count": 15,
   "id": "4072391b-2e1d-4e6b-b358-d064d0490f02",
   "metadata": {},
   "outputs": [
    {
     "name": "stdout",
     "output_type": "stream",
     "text": [
      "This is a string with leading and trailing spaces.   \n"
     ]
    }
   ],
   "source": [
    "my_string = \"    This is a string with leading and trailing spaces.   \"\n",
    "trimmed_left_string = my_string.lstrip()\n",
    "\n",
    "print(trimmed_left_string)\n"
   ]
  },
  {
   "cell_type": "code",
   "execution_count": null,
   "id": "b59be363-d108-482d-b2da-0a5ed08c0ebf",
   "metadata": {},
   "outputs": [],
   "source": []
  }
 ],
 "metadata": {
  "kernelspec": {
   "display_name": "Python 3 (ipykernel)",
   "language": "python",
   "name": "python3"
  },
  "language_info": {
   "codemirror_mode": {
    "name": "ipython",
    "version": 3
   },
   "file_extension": ".py",
   "mimetype": "text/x-python",
   "name": "python",
   "nbconvert_exporter": "python",
   "pygments_lexer": "ipython3",
   "version": "3.10.6"
  }
 },
 "nbformat": 4,
 "nbformat_minor": 5
}
