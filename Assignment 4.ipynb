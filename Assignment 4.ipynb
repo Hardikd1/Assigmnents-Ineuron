{
 "cells": [
  {
   "cell_type": "code",
   "execution_count": null,
   "id": "86699064-5757-4fba-9133-b0a3e8a1d6a4",
   "metadata": {},
   "outputs": [],
   "source": [
    "1. What exactly is []?\n",
    "\n",
    "Answer\n",
    "In Python, [] is an empty list, which is a built-in data type. Lists are used to store multiple items in a single variable, and an empty list simply means a list with no elements."
   ]
  },
  {
   "cell_type": "code",
   "execution_count": null,
   "id": "702ffa88-cc75-4612-bc09-1f80a25e50ee",
   "metadata": {},
   "outputs": [],
   "source": [
    "2. In a list of values stored in a variable called spam, how would you assign the value 'hello' as the third value? (Assume [2, 4, 6, 8, 10] are in spam.)"
   ]
  },
  {
   "cell_type": "code",
   "execution_count": 8,
   "id": "0a571839-c108-4c32-8a1b-36b4c1f30e94",
   "metadata": {},
   "outputs": [],
   "source": [
    "# ANSWER\n",
    "spam = [2,4,6,8,10]\n",
    "spam[2] = 'hello'"
   ]
  },
  {
   "cell_type": "code",
   "execution_count": 9,
   "id": "73e6313e-1fd3-42bb-942a-8b2e848d7b5f",
   "metadata": {},
   "outputs": [
    {
     "data": {
      "text/plain": [
       "[2, 4, 'hello', 8, 10]"
      ]
     },
     "execution_count": 9,
     "metadata": {},
     "output_type": "execute_result"
    }
   ],
   "source": [
    "spam"
   ]
  },
  {
   "cell_type": "code",
   "execution_count": 13,
   "id": "19d6a48c-8e0f-4c72-b629-482e54483947",
   "metadata": {},
   "outputs": [],
   "source": [
    "spam = ['a','b','c','d']"
   ]
  },
  {
   "cell_type": "code",
   "execution_count": null,
   "id": "66acac96-17ce-419e-90b5-e7a185e1721f",
   "metadata": {},
   "outputs": [],
   "source": [
    "3. What is the value of spam[int(int('3' * 2) / 11)]"
   ]
  },
  {
   "cell_type": "code",
   "execution_count": 12,
   "id": "0c981c58-a684-4a9f-b14b-5e791e5bd677",
   "metadata": {},
   "outputs": [
    {
     "data": {
      "text/plain": [
       "'d'"
      ]
     },
     "execution_count": 12,
     "metadata": {},
     "output_type": "execute_result"
    }
   ],
   "source": [
    "spam[int(int('3' * 2) / 11)]"
   ]
  },
  {
   "cell_type": "code",
   "execution_count": null,
   "id": "d5148f7e-4264-48a1-801d-e0eb97b32194",
   "metadata": {},
   "outputs": [],
   "source": [
    "4. What is the value of spam[-1]?"
   ]
  },
  {
   "cell_type": "code",
   "execution_count": 14,
   "id": "006fb989-5397-446c-a10f-276d6572b379",
   "metadata": {},
   "outputs": [
    {
     "data": {
      "text/plain": [
       "'d'"
      ]
     },
     "execution_count": 14,
     "metadata": {},
     "output_type": "execute_result"
    }
   ],
   "source": [
    "## Answer\n",
    "spam[-1]"
   ]
  },
  {
   "cell_type": "code",
   "execution_count": null,
   "id": "8062f833-54d0-4838-a9d2-56c89bbb963e",
   "metadata": {},
   "outputs": [],
   "source": [
    "5. What is the value of spam[:2]?"
   ]
  },
  {
   "cell_type": "code",
   "execution_count": 19,
   "id": "2fbc4284-cf8f-4133-999b-8633c8cb6f0e",
   "metadata": {},
   "outputs": [
    {
     "data": {
      "text/plain": [
       "['a', 'b']"
      ]
     },
     "execution_count": 19,
     "metadata": {},
     "output_type": "execute_result"
    }
   ],
   "source": [
    "spam[:2]"
   ]
  },
  {
   "cell_type": "code",
   "execution_count": 28,
   "id": "36165005-68d4-47f9-aeae-5ac36fe8e95e",
   "metadata": {},
   "outputs": [],
   "source": [
    "bacon = [3.14, 'cat', 11, 'cat', True]"
   ]
  },
  {
   "cell_type": "code",
   "execution_count": null,
   "id": "fb91b554-4cfb-4455-b55e-7f2511422aaa",
   "metadata": {},
   "outputs": [],
   "source": [
    "6. What is the value of bacon.index('cat')?"
   ]
  },
  {
   "cell_type": "code",
   "execution_count": 29,
   "id": "12ece4ec-359f-4818-8d0c-3bd4c5adb24e",
   "metadata": {},
   "outputs": [
    {
     "data": {
      "text/plain": [
       "1"
      ]
     },
     "execution_count": 29,
     "metadata": {},
     "output_type": "execute_result"
    }
   ],
   "source": [
    "# ANSWER\n",
    "bacon.index('cat')"
   ]
  },
  {
   "cell_type": "code",
   "execution_count": null,
   "id": "13649bf3-033f-4e98-875c-26e05b8717f0",
   "metadata": {},
   "outputs": [],
   "source": [
    "7. How does bacon.append(99) change the look of the list value in bacon?"
   ]
  },
  {
   "cell_type": "code",
   "execution_count": 37,
   "id": "840747ae-6753-4de1-a880-20f7752fa01d",
   "metadata": {},
   "outputs": [
    {
     "data": {
      "text/plain": [
       "[3.14, 'cat', 11, 'cat', True, 99]"
      ]
     },
     "execution_count": 37,
     "metadata": {},
     "output_type": "execute_result"
    }
   ],
   "source": [
    "bacon.append(99)\n",
    "bacon"
   ]
  },
  {
   "cell_type": "code",
   "execution_count": null,
   "id": "917384fe-6a2e-4028-a6cf-b9166d60786d",
   "metadata": {},
   "outputs": [],
   "source": [
    "8. How does bacon.remove('cat') change the look of the list in bacon?"
   ]
  },
  {
   "cell_type": "code",
   "execution_count": 40,
   "id": "ff31b1ce-fc11-4ac4-b1ef-73cba25705c9",
   "metadata": {},
   "outputs": [
    {
     "data": {
      "text/plain": [
       "[3.14, 11, True, 99, 'cat']"
      ]
     },
     "execution_count": 40,
     "metadata": {},
     "output_type": "execute_result"
    }
   ],
   "source": [
    "# Answer\n",
    "\n",
    "bacon.remove('cat')\n",
    "bacon"
   ]
  },
  {
   "cell_type": "code",
   "execution_count": null,
   "id": "240a6899-72cb-40bf-8430-56b61dddfdb9",
   "metadata": {},
   "outputs": [],
   "source": [
    "9. What are the list concatenation and list replication operators?\n",
    "\n",
    "ANSWER\n",
    "to concat the list we can use + symbol and to replicate we can use * operator"
   ]
  },
  {
   "cell_type": "code",
   "execution_count": null,
   "id": "b3da6a31-574f-44bb-9a47-56c7583bfce5",
   "metadata": {},
   "outputs": [],
   "source": [
    "10. What is difference between the list methods append() and insert()?\n",
    "\n",
    "Answer\n",
    "The append() method is used to add an element at the end of the list, while the insert() method is used to insert an element at a specific position in the list."
   ]
  },
  {
   "cell_type": "code",
   "execution_count": null,
   "id": "eb95a89b-de48-4501-bade-2fd3f1c7cde4",
   "metadata": {},
   "outputs": [],
   "source": [
    "11. What are the two methods for removing items from a list?\n",
    "\n",
    "\n",
    "Answer\n",
    "remove() method: This method removes the first occurrence of a specified value in the list.\n",
    "pop() method: This method removes and returns the item at the specified index in the list. If no index is specified, it removes and returns the last item in the list."
   ]
  },
  {
   "cell_type": "code",
   "execution_count": null,
   "id": "70b1dbef-28b2-495a-8b31-a158e30d1ba4",
   "metadata": {},
   "outputs": [],
   "source": [
    "12. Describe how list values and string values are identical.\n",
    "\n",
    "Answer\n",
    "One similarity between lists and strings is that they are both indexed sequences of values. This means that you can access individual values in a list or a string using an index.\n",
    "Another similarity is that both lists and strings can be sliced. This means that you can extract a subset of values from a list or a string by specifying a range of indices."
   ]
  },
  {
   "cell_type": "code",
   "execution_count": null,
   "id": "c18cae71-6ec7-4846-9fb4-c87c1392b5d8",
   "metadata": {},
   "outputs": [],
   "source": [
    "13. What's the difference between tuples and lists?\n",
    "\n",
    "Answer\n",
    "Mutability: Lists are mutable, meaning that their contents can be changed after they are created. Tuples, on the other hand, are immutable, meaning that their contents cannot be changed once they are created.\n",
    "\n",
    "Syntax: Lists are enclosed in square brackets [ ], while tuples are enclosed in parentheses ( ).\n",
    "\n",
    "Performance: Tuples are generally faster than lists because they are immutable and require less memory.\n",
    "\n",
    "Usage: Lists are typically used to store collections of items that need to be modified, while tuples are typically used to store collections of items that should not be modified."
   ]
  },
  {
   "cell_type": "code",
   "execution_count": null,
   "id": "3f9e8bc4-3fbe-4ded-aa84-4809a842d05c",
   "metadata": {},
   "outputs": [],
   "source": [
    "14. How do you type a tuple value that only contains the integer 42?\n",
    "\n",
    "Answer\n",
    "To create a tuple with only one element, you need to add a comma after the element to indicate that it's a tuple. So to create a tuple with the integer 42,"
   ]
  },
  {
   "cell_type": "code",
   "execution_count": null,
   "id": "ef49120c-8744-4039-b0aa-1539c21c6c7b",
   "metadata": {},
   "outputs": [],
   "source": [
    "15. How do you get a list values tuple form? How do you get a tuple values list form?\n",
    "\n",
    "Answer"
   ]
  },
  {
   "cell_type": "code",
   "execution_count": 41,
   "id": "7c56d317-b3b9-4557-a25d-76ebcec8d85e",
   "metadata": {},
   "outputs": [
    {
     "name": "stdout",
     "output_type": "stream",
     "text": [
      "[4, 5, 6]\n"
     ]
    }
   ],
   "source": [
    "my_tuple = (4, 5, 6)\n",
    "my_list = list(my_tuple)\n",
    "print(my_list)"
   ]
  },
  {
   "cell_type": "code",
   "execution_count": null,
   "id": "a600eab6-c863-4fa2-a92c-f11c234c247d",
   "metadata": {},
   "outputs": [],
   "source": [
    "16. Variables that \"contain\" list values are not necessarily lists themselves. Instead, what do they contain?\n",
    "\n",
    "Answer\n",
    "Variables that \"contain\" list values are references or pointers to the list objects. This means that the variable stores the memory address of the list object in the computer's memory, rather than storing the list values directly. This allows multiple variables to reference the same list object, and changes made to the list through one variable will be reflected in all other variables that reference the same list object."
   ]
  },
  {
   "cell_type": "code",
   "execution_count": null,
   "id": "d968c264-b528-41e0-8306-6fb41049f4cb",
   "metadata": {},
   "outputs": [],
   "source": [
    "17. How do you distinguish between copy.copy() and copy.deepcopy()?\n",
    "\n",
    "Answer\n",
    "\n",
    "copy.copy() creates a shallow copy of an object, which means that it copies the object and its references but not the referred objects themselves. In other words, any changes made to the referred objects will affect both the original and the copied object.\n",
    "\n",
    "copy.deepcopy() creates a deep copy of an object, which means that it copies the object and all of its referred objects recursively. In other words, any changes made to the referred objects will not affect the original object or the copied object."
   ]
  }
 ],
 "metadata": {
  "kernelspec": {
   "display_name": "Python 3 (ipykernel)",
   "language": "python",
   "name": "python3"
  },
  "language_info": {
   "codemirror_mode": {
    "name": "ipython",
    "version": 3
   },
   "file_extension": ".py",
   "mimetype": "text/x-python",
   "name": "python",
   "nbconvert_exporter": "python",
   "pygments_lexer": "ipython3",
   "version": "3.10.6"
  }
 },
 "nbformat": 4,
 "nbformat_minor": 5
}
