{
 "cells": [
  {
   "cell_type": "code",
   "execution_count": null,
   "id": "ae4a80d3-ed68-48a7-9167-d85953eb347b",
   "metadata": {},
   "outputs": [],
   "source": [
    "1. Why are functions advantageous to have in your programs?\n",
    "\n",
    "Answer\n",
    "Reusability: Functions can be written once and reused multiple times in a program or across multiple programs. This saves time and effort and reduces the amount of code that needs to be written.\n",
    "\n",
    "Modularity: Functions allow you to break down complex programs into smaller, more manageable pieces. This makes the code easier to read, understand, and maintain.\n",
    "\n",
    "Abstraction: Functions hide implementation details and provide a simpler interface to the user. This reduces complexity and makes it easier to use the program.\n",
    "\n",
    "Scalability: Functions can be scaled up or down depending on the requirements of the program. They can be used to handle small tasks as well as large, complex tasks.\n",
    "\n",
    "Testing: Functions can be tested independently of the rest of the program, making it easier to identify and fix errors"
   ]
  },
  {
   "cell_type": "code",
   "execution_count": null,
   "id": "750003fc-572b-49a1-b1a3-a111fc49aa76",
   "metadata": {},
   "outputs": [],
   "source": [
    "2. When does the code in a function run: when it's specified or when it's called?\n",
    "\n",
    "Answer\n",
    "When a function is called, the code inside the function is executed with the specified arguments. The function call provides input values to the function, and the function processes them according to the instructions inside the function.\n",
    "\n",
    "So, the code inside a function is not executed until the function is called, at which point the code is executed with the provided arguments. This allows for the code to be reused multiple times with different inputs and provides modularity to the program."
   ]
  },
  {
   "cell_type": "code",
   "execution_count": null,
   "id": "2b48ee85-42fb-41ce-b17b-4cd109203918",
   "metadata": {},
   "outputs": [],
   "source": [
    "3. What statement creates a function?\n",
    "\n",
    "answer\n",
    "The def statement is used to create a function in Python"
   ]
  },
  {
   "cell_type": "code",
   "execution_count": null,
   "id": "94b93fa4-4616-42b0-8bf8-9351981001c6",
   "metadata": {},
   "outputs": [],
   "source": [
    "4.What is the difference between a function and a function call?\n",
    "\n",
    "Answer\n",
    "\n",
    "A function is a block of code that performs a specific task, which can be called from anywhere in the program. It is a reusable piece of code that can take input, process it, and return output. In Python, functions are defined using the def keyword, followed by the function name, parameters (if any), and the body of the function.\n",
    "\n",
    "On the other hand, a function call is the act of invoking or executing a function that has already been defined in a program. It passes arguments (if any) to the function and executes the code inside the function. A function call is the way of using a function at a specific point in the program."
   ]
  },
  {
   "cell_type": "code",
   "execution_count": null,
   "id": "2ac2ffbc-acd5-45cb-a141-e0a7718abb14",
   "metadata": {},
   "outputs": [],
   "source": [
    "5. How many global scopes are there in a Python program? How many local scopes?\n",
    "\n",
    "Answer\n",
    "In Python, there is one global scope per program, which is created when the program starts and remains in existence until the program terminates. Any variable or object defined at the top level of a Python module or outside of any function is considered part of the global scope.\n",
    "\n",
    "On the other hand, a local scope is created whenever a function is called, and it is destroyed when the function returns. Any variable or object defined inside a function is considered part of the local scope and is not accessible outside the function.\n",
    "\n"
   ]
  },
  {
   "cell_type": "code",
   "execution_count": null,
   "id": "4b6c42c1-f10f-4e62-984c-522f3ab7b867",
   "metadata": {},
   "outputs": [],
   "source": [
    "6. What happens to variables in a local scope when the function call returns?\n",
    "\n",
    "Answer\n",
    "When a function call returns, the local scope created for that function is destroyed, and any variables or objects defined within that scope are deleted. Any changes made to variables in the local scope during the function call do not affect variables in the global scope or other local scopes."
   ]
  },
  {
   "cell_type": "code",
   "execution_count": null,
   "id": "c4cf4cf6-2397-4672-a67d-32affc231a87",
   "metadata": {},
   "outputs": [],
   "source": [
    "7. What is the concept of a return value? Is it possible to have a return value in an expression?\n",
    "\n",
    "Answer\n",
    "A return value is the value that a function call evaluates to and sends back to the calling code. It is the output or result of the function. A return statement is used in a function to specify the value to be returned"
   ]
  },
  {
   "cell_type": "code",
   "execution_count": null,
   "id": "3dee86cb-26bc-479c-95aa-45c3c9ea7cee",
   "metadata": {},
   "outputs": [],
   "source": [
    "8. If a function does not have a return statement, what is the return value of a call to that function?\n",
    "\n",
    "Answer\n",
    "If a function does not have a return statement, then the return value of the call to that function is None."
   ]
  },
  {
   "cell_type": "code",
   "execution_count": null,
   "id": "27013b3a-2241-4009-80f4-7427dfff450c",
   "metadata": {},
   "outputs": [],
   "source": [
    "9.How do you make a function variable refer to the global variable?\n",
    "Answer\n",
    "\n",
    "To make a function variable refer to the global variable, you can use the global keyword followed by the variable name inside the function."
   ]
  },
  {
   "cell_type": "code",
   "execution_count": null,
   "id": "f17c96dc-2506-46d4-9d23-dd0b6d4e7993",
   "metadata": {},
   "outputs": [],
   "source": [
    "10.What is the data type of None?\n",
    "\n",
    "Answer\n",
    "The data type of None is NoneType."
   ]
  },
  {
   "cell_type": "code",
   "execution_count": null,
   "id": "c76b42b5-88af-451e-879c-2c65365a31f2",
   "metadata": {},
   "outputs": [],
   "source": [
    "11. What does the sentence import areallyourpetsnamederic do?\n",
    "Answer\n",
    "The sentence import areallyourpetsnamederic imports a module named areallyourpetsnamederic into the current Python program. If such a module exists, then it will be loaded and its contents will be available for use."
   ]
  },
  {
   "cell_type": "code",
   "execution_count": null,
   "id": "7e1d5956-cc12-4eda-9469-2268082c3d4a",
   "metadata": {},
   "outputs": [],
   "source": [
    "12.If you had a bacon() feature in a spam module, what would you call it after importing spam?\n",
    "\n",
    "Answer\n",
    "After importing the spam module, you can call the bacon() function using the following syntax:"
   ]
  },
  {
   "cell_type": "code",
   "execution_count": null,
   "id": "f7a55c27-bad2-4627-b5ca-d5138f5f6380",
   "metadata": {},
   "outputs": [],
   "source": [
    "13.What can you do to save a programme from crashing if it encounters an error?\n",
    "\n",
    "Answer\n",
    "To save a program from crashing if it encounters an error, you can use exception handling using the try and except statements. You can enclose the code that might raise an exception inside a try block, and then handle the exception using the except block."
   ]
  },
  {
   "cell_type": "code",
   "execution_count": null,
   "id": "08a3a0ac-4531-4bb4-a91a-3a09aa0fa9b2",
   "metadata": {},
   "outputs": [],
   "source": [
    "14.What is the purpose of the try clause? What is the purpose of the except clause?\n",
    "\n",
    "Answer\n",
    "The purpose of the try clause is to enclose the code that might raise an exception. If an exception is raised within the try block, the control is transferred to the except block.\n",
    "The purpose of the except clause is to handle the exception that was raised in the try block. The except block is executed only if an exception is raised in the try block."
   ]
  }
 ],
 "metadata": {
  "kernelspec": {
   "display_name": "Python 3 (ipykernel)",
   "language": "python",
   "name": "python3"
  },
  "language_info": {
   "codemirror_mode": {
    "name": "ipython",
    "version": 3
   },
   "file_extension": ".py",
   "mimetype": "text/x-python",
   "name": "python",
   "nbconvert_exporter": "python",
   "pygments_lexer": "ipython3",
   "version": "3.10.6"
  }
 },
 "nbformat": 4,
 "nbformat_minor": 5
}
