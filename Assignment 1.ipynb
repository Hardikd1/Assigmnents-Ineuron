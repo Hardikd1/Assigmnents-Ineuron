{
 "cells": [
  {
   "cell_type": "raw",
   "id": "3f1745cb-ef13-4246-85fc-ea003db86a59",
   "metadata": {},
   "source": [
    "Question 1. In the below elements which of them are values or an expression? eg:- values can be\n",
    "integer or string and expressions will be mathematical operators.\n",
    "*\n",
    "'hello'\n",
    "-87.8\n",
    "-\n",
    "/\n",
    "+\n",
    "6"
   ]
  },
  {
   "cell_type": "raw",
   "id": "2f97ab6e-784f-487e-be47-e11dbc734f11",
   "metadata": {},
   "source": [
    "# ANSWER \n",
    "Values = -87.8,6,'hello'\n",
    "Expression = *,-,/,+"
   ]
  },
  {
   "cell_type": "raw",
   "id": "5c8e2a14-5adc-42d0-ae22-6fc4c9dbebc2",
   "metadata": {},
   "source": [
    "Question 2 : what is the difference between string and variable?\n",
    "\n",
    "ANSWER\n",
    "Variables are symbols that you can use to store data in a program. You can think of them as an empty box that you fill with some data or value. Strings are data, so we can use them to fill up a variable. Declaring strings as variables can make it easier for us to work with strings throughout our Python programs.string are written in Inverted commas\n"
   ]
  },
  {
   "cell_type": "raw",
   "id": "2fa2ab18-8ce8-4037-a167-1b0589b8de25",
   "metadata": {},
   "source": [
    "Question 3. Describe three different data types.\n",
    "\n",
    "Answer\n",
    "Integers,boleans,floats,list"
   ]
  },
  {
   "cell_type": "raw",
   "id": "90642e22-654c-42cb-935d-b0653d063153",
   "metadata": {},
   "source": [
    "Question 4. What is an expression made up of? What do all expressions do?\n",
    "\n",
    "ANSWER\n",
    "An expression is a combination of operators, constants and variables. An expression may consist of one or more operands, and zero or more operators to produce a value.An example of expression can be : x = x + 10 and x = x + 10 and x=x+10."
   ]
  },
  {
   "cell_type": "raw",
   "id": "c834427c-0a1f-4082-8b4b-e46801076ea3",
   "metadata": {},
   "source": [
    "Question 5. This assignment statements, like spam = 10. What is the difference between an\n",
    "expression and a statement?\n",
    "\n",
    "ANSWER \n",
    "A statement is a complete line of code that performs an action or a series of actions. For example, spam = 10 is a statement that assigns the value 10 to the variable spam.The key difference between an expression and a statement is that an expression always produces a value, whereas a statement may or may not produce a value. In the example above, the statement spam = 10 doesn't produce a value, but it does have the side effect of assigning the value 10 to the variable spam"
   ]
  },
  {
   "cell_type": "code",
   "execution_count": 2,
   "id": "7ae258d9-a119-4852-ae96-3ed539d7fc53",
   "metadata": {},
   "outputs": [
    {
     "data": {
      "text/plain": [
       "23"
      ]
     },
     "execution_count": 2,
     "metadata": {},
     "output_type": "execute_result"
    }
   ],
   "source": [
    "#6. After running the following code, what does the variable bacon contain?\n",
    "bacon = 22\n",
    "bacon + 1\n",
    "# the value to the variable bacon increses by one i:e 23"
   ]
  },
  {
   "cell_type": "code",
   "execution_count": 3,
   "id": "d14f03c3-6c76-4298-9e81-51b8ad93fcbe",
   "metadata": {},
   "outputs": [
    {
     "data": {
      "text/plain": [
       "'spamspamspam'"
      ]
     },
     "execution_count": 3,
     "metadata": {},
     "output_type": "execute_result"
    }
   ],
   "source": [
    "# 7. What should the values of the following two terms be?\n",
    "'spam' +'spamspam'"
   ]
  },
  {
   "cell_type": "code",
   "execution_count": 4,
   "id": "f1d55c4a-7c7e-48ab-9b45-7c2b3ad0a32e",
   "metadata": {},
   "outputs": [
    {
     "data": {
      "text/plain": [
       "'spamspamspam'"
      ]
     },
     "execution_count": 4,
     "metadata": {},
     "output_type": "execute_result"
    }
   ],
   "source": [
    "'spam'* 3"
   ]
  },
  {
   "cell_type": "raw",
   "id": "c3d55184-5017-4c48-8619-5e9767ba5f06",
   "metadata": {},
   "source": [
    "Question 8. Why is eggs a valid variable name while 100 is invalid?\n",
    "\n",
    "ANSWER\n",
    "\n",
    "eggs is a valid variable name because it starts with a letter and contains only letters, which are allowed characters. On the other hand, 100 is not a valid variable name because it starts with a number, which is not allowed by the first rule."
   ]
  },
  {
   "cell_type": "raw",
   "id": "7fa80acb-fbb6-4bb3-8ac0-1e57c3afc17b",
   "metadata": {},
   "source": [
    "Question 9. What three functions can be used to get the integer, floating-point number, or string\n",
    "version of a value?\n",
    "\n",
    "ANSWER\n",
    "Int(): This function can be used to convert a value to an integer. For example, int('10') will return the integer 10.\n",
    "\n",
    "float(): This function can be used to convert a value to a floating-point number. For example, float('3.14') will return the floating-point number 3.14.\n",
    "\n",
    "str(): This function can be used to convert a value to a string. For example, str(42) will return the string '42'."
   ]
  },
  {
   "cell_type": "raw",
   "id": "3eec7ce6-2c00-4fd1-80cd-6c19ee0a046b",
   "metadata": {},
   "source": [
    "Question 10. Why does this expression cause an error? How can you fix it?\n",
    "'I have eaten' + 99 + 'burritos'\n",
    "\n",
    "ANSWER\n",
    "This will cause error because we are trying to add the string and Integer"
   ]
  }
 ],
 "metadata": {
  "kernelspec": {
   "display_name": "Python 3 (ipykernel)",
   "language": "python",
   "name": "python3"
  },
  "language_info": {
   "codemirror_mode": {
    "name": "ipython",
    "version": 3
   },
   "file_extension": ".py",
   "mimetype": "text/x-python",
   "name": "python",
   "nbconvert_exporter": "python",
   "pygments_lexer": "ipython3",
   "version": "3.10.6"
  }
 },
 "nbformat": 4,
 "nbformat_minor": 5
}
