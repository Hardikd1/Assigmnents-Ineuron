{
 "cells": [
  {
   "cell_type": "markdown",
   "id": "389ca6d2-2f37-482d-81ae-34256b36960d",
   "metadata": {},
   "source": [
    "1. What does an empty dictionary's code look like?"
   ]
  },
  {
   "cell_type": "code",
   "execution_count": 9,
   "id": "ca7e048e-9541-413f-80b9-af8233bd168f",
   "metadata": {},
   "outputs": [],
   "source": [
    "my_dict = {\" : \"}"
   ]
  },
  {
   "cell_type": "markdown",
   "id": "998c6900-2057-40ac-8ed0-3cb65cb2a7d3",
   "metadata": {},
   "source": [
    "2. What is the value of a dictionary value with the key 'foo' and the value 42?"
   ]
  },
  {
   "cell_type": "code",
   "execution_count": 13,
   "id": "e19d1cd3-17af-4deb-b135-a29937581a7d",
   "metadata": {},
   "outputs": [
    {
     "name": "stdout",
     "output_type": "stream",
     "text": [
      "42\n"
     ]
    }
   ],
   "source": [
    "# ANSWER\n",
    "\n",
    "dic1 = {'foo':'42'}\n",
    "print(dic1['foo'])  "
   ]
  },
  {
   "cell_type": "markdown",
   "id": "4f4717f5-6955-48a3-9215-4c58918f7fe5",
   "metadata": {},
   "source": [
    "3. What is the most significant distinction between a dictionary and a list?\n"
   ]
  },
  {
   "cell_type": "code",
   "execution_count": null,
   "id": "271b1fff-51ff-4976-8a85-14de69177421",
   "metadata": {},
   "outputs": [],
   "source": [
    "ANSWER \n",
    "\n",
    "Dictionary has key and values, whereas a list is an ordered collection of values"
   ]
  },
  {
   "cell_type": "markdown",
   "id": "c151d60a-a31e-48b7-810a-e59b2faf95b2",
   "metadata": {},
   "source": [
    "4. What happens if you try to access spam['foo'] if spam is {'bar': 100}?\n"
   ]
  },
  {
   "cell_type": "code",
   "execution_count": 16,
   "id": "11d03ae9-39b4-4f81-bd27-d4f6a669c61c",
   "metadata": {},
   "outputs": [
    {
     "name": "stdout",
     "output_type": "stream",
     "text": [
      "100\n"
     ]
    },
    {
     "ename": "KeyError",
     "evalue": "'foo'",
     "output_type": "error",
     "traceback": [
      "\u001b[0;31m---------------------------------------------------------------------------\u001b[0m",
      "\u001b[0;31mKeyError\u001b[0m                                  Traceback (most recent call last)",
      "Cell \u001b[0;32mIn [16], line 3\u001b[0m\n\u001b[1;32m      1\u001b[0m spam \u001b[38;5;241m=\u001b[39m {\u001b[38;5;124m'\u001b[39m\u001b[38;5;124mbar\u001b[39m\u001b[38;5;124m'\u001b[39m: \u001b[38;5;241m100\u001b[39m}\n\u001b[1;32m      2\u001b[0m \u001b[38;5;28mprint\u001b[39m(spam[\u001b[38;5;124m'\u001b[39m\u001b[38;5;124mbar\u001b[39m\u001b[38;5;124m'\u001b[39m])  \n\u001b[0;32m----> 3\u001b[0m \u001b[38;5;28mprint\u001b[39m(\u001b[43mspam\u001b[49m\u001b[43m[\u001b[49m\u001b[38;5;124;43m'\u001b[39;49m\u001b[38;5;124;43mfoo\u001b[39;49m\u001b[38;5;124;43m'\u001b[39;49m\u001b[43m]\u001b[49m)\n",
      "\u001b[0;31mKeyError\u001b[0m: 'foo'"
     ]
    }
   ],
   "source": [
    "spam = {'bar': 100}\n",
    "print(spam['bar'])  \n",
    "print(spam['foo'])   \n"
   ]
  },
  {
   "cell_type": "markdown",
   "id": "aa7a289f-f843-4727-a8bd-838a4ade97f8",
   "metadata": {},
   "source": [
    "5. If a dictionary is stored in spam, what is the difference between the expressions 'cat' in spam and 'cat' in spam.keys()?"
   ]
  },
  {
   "cell_type": "code",
   "execution_count": 17,
   "id": "ec22f136-9b03-49cd-b11c-c9b3e3dd29d2",
   "metadata": {},
   "outputs": [
    {
     "name": "stdout",
     "output_type": "stream",
     "text": [
      "True\n",
      "False\n",
      "True\n",
      "False\n"
     ]
    }
   ],
   "source": [
    "ANSWER\n",
    "Both expressions above return the same output for the same key. However, using 'cat' in spam may be more efficient as it checks if the key exists directly in the dictionary spam, whereas 'cat' in spam.keys() first returns a list of keys and then checks if 'cat' exists in that list.\n",
    "\n",
    "\n",
    "spam = {'cat': 'meow', 'dog': 'woof'}\n",
    "\n",
    "# Using 'in' with the dictionary directly\n",
    "print('cat' in spam)   # Output: True\n",
    "print('bird' in spam)  # Output: False\n",
    "\n",
    "# Using 'in' with the keys() method\n",
    "print('cat' in spam.keys())   # Output: True\n",
    "print('bird' in spam.keys())  # Output: False\n"
   ]
  },
  {
   "cell_type": "markdown",
   "id": "070399da-1c60-4128-beab-5f9a97cbecd7",
   "metadata": {},
   "source": [
    "6. If a dictionary is stored in spam, what is the difference between the expressions 'cat' in spam and 'cat' in spam.values()?"
   ]
  },
  {
   "cell_type": "code",
   "execution_count": 18,
   "id": "52db422e-6e23-496e-8722-55de8eedc5cd",
   "metadata": {},
   "outputs": [
    {
     "name": "stdout",
     "output_type": "stream",
     "text": [
      "True\n",
      "False\n",
      "False\n",
      "False\n",
      "True\n",
      "True\n"
     ]
    }
   ],
   "source": [
    "Answer\n",
    "\n",
    "In the below example, 'cat' in spam returns True because 'cat' is a key in the dictionary spam. On the other hand, 'cat' in spam.values() also returns True because 'cat' is a value associated with the key 'cat' in the dictionary spam.\n",
    "spam = {'cat': 'meow', 'dog': 'woof'}\n",
    "\n",
    "# Using 'in' with the dictionary directly\n",
    "print('cat' in spam)    # Output: True\n",
    "print('meow' in spam)   # Output: False\n",
    "print('woof' in spam)   # Output: False\n",
    "\n",
    "# Using 'in' with the values() method\n",
    "print('cat' in spam.values())    # Output: True\n",
    "print('meow' in spam.values())   # Output: True\n",
    "print('woof' in spam.values())   # Output: True\n"
   ]
  },
  {
   "cell_type": "markdown",
   "id": "3a36d68f-dcb6-4fbb-955e-c29b0403723f",
   "metadata": {},
   "source": [
    "7. What is a shortcut for the following code?\n",
    "if 'color' not in spam:\n",
    "spam['color'] = 'black'"
   ]
  },
  {
   "cell_type": "code",
   "execution_count": null,
   "id": "93680769-97af-4bfb-a56a-510d272fdfb3",
   "metadata": {},
   "outputs": [],
   "source": [
    "Answer\n",
    "spam.setdefault('color', 'black')"
   ]
  },
  {
   "cell_type": "markdown",
   "id": "6cb38cd3-65f9-4a24-8249-e7302f752573",
   "metadata": {},
   "source": [
    "8. How do you \"pretty print\" dictionary values using which module and function?"
   ]
  },
  {
   "cell_type": "code",
   "execution_count": 19,
   "id": "5168d8ee-644f-4300-b6d1-4e33e21e9e5d",
   "metadata": {},
   "outputs": [
    {
     "name": "stdout",
     "output_type": "stream",
     "text": [
      "{'color': 'red', 'fruit': 'apple', 'price': 1.0}\n"
     ]
    }
   ],
   "source": [
    "import pprint\n",
    "my_dict = {'fruit': 'apple','color': 'red','price': 1.00}\n",
    "pprint.pprint(my_dict)"
   ]
  }
 ],
 "metadata": {
  "kernelspec": {
   "display_name": "Python 3 (ipykernel)",
   "language": "python",
   "name": "python3"
  },
  "language_info": {
   "codemirror_mode": {
    "name": "ipython",
    "version": 3
   },
   "file_extension": ".py",
   "mimetype": "text/x-python",
   "name": "python",
   "nbconvert_exporter": "python",
   "pygments_lexer": "ipython3",
   "version": "3.10.6"
  }
 },
 "nbformat": 4,
 "nbformat_minor": 5
}
